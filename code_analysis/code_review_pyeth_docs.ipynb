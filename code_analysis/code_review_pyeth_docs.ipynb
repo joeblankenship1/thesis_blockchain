{
 "cells": [
  {
   "cell_type": "markdown",
   "metadata": {},
   "source": [
    "# Extraction of Documentation from Pyethapp, Pyethereum, and Pydevp2p"
   ]
  },
  {
   "cell_type": "code",
   "execution_count": null,
   "metadata": {
    "collapsed": true
   },
   "outputs": [],
   "source": [
    "import os\n",
    "import re\n",
    "from string import punctuation"
   ]
  },
  {
   "cell_type": "code",
   "execution_count": null,
   "metadata": {
    "collapsed": false
   },
   "outputs": [],
   "source": [
    "# Combine total corpus of wiki pages for Pyethapp\n",
    "\n",
    "exclude = re.compile('[%s]' % re.escape(punctuation))\n",
    "\n",
    "filenames = os.listdir('pyethapp.wiki/')\n",
    "\n",
    "with open('wiki_pea_comb.txt', 'w') as wiki_pea_comb:\n",
    "    filenames = filenames\n",
    "    for filename in filenames:\n",
    "        with open('pyethapp.wiki/%s' % filename) as single_file:\n",
    "            for line in single_file:\n",
    "                line_nopunct = exclude.sub(' ', line)\n",
    "                wiki_pea_comb.write(line_nopunct + ' ')\n",
    "\n",
    "with open('wiki_pea_comb.txt', 'r') as wiki_pea_comb:\n",
    "    for line in wiki_pea_comb:\n",
    "        with open('wiki_pea_comb2.txt', 'w') as wiki_pea_comb2:\n",
    "            wiki_pea_comb2.write(\" \".join(line.rstrip('\\n') for line in wiki_pea_comb))"
   ]
  },
  {
   "cell_type": "code",
   "execution_count": null,
   "metadata": {
    "collapsed": false
   },
   "outputs": [],
   "source": [
    "# Combine total corpus of wiki pages for Pyethereum\n",
    "\n",
    "exclude = re.compile('[%s]' % re.escape(punctuation))\n",
    "\n",
    "filenames = os.listdir('pyethereum.wiki/')\n",
    "\n",
    "with open('wiki_peth_comb.txt', 'w') as wiki_peth_comb:\n",
    "    filenames = filenames\n",
    "    for filename in filenames:\n",
    "        with open('pyethereum.wiki/%s' % filename) as single_file:\n",
    "            for line in single_file:\n",
    "                line_nopunct = exclude.sub(' ', line)\n",
    "                wiki_peth_comb.write(line_nopunct + ' ')\n",
    "\n",
    "with open('wiki_peth_comb.txt', 'r') as wiki_peth_comb:\n",
    "    for line in wiki_peth_comb:\n",
    "        with open('wiki_peth_comb2.txt', 'w') as wiki_peth_comb2:\n",
    "            wiki_peth_comb2.write(\" \".join(line.rstrip('\\n') for line in wiki_peth_comb))"
   ]
  },
  {
   "cell_type": "code",
   "execution_count": null,
   "metadata": {
    "collapsed": false
   },
   "outputs": [],
   "source": [
    "# Combine total corpus of docstring from Pyethapp\n",
    "\n",
    "exclude = re.compile('[%s]' % re.escape(punctuation))\n",
    "\n",
    "filenames = os.listdir('pyethapp/')\n",
    "\n",
    "with open('docs_pea_comb.txt', 'w') as docs_pea_comb:\n",
    "    filenames = filenames\n",
    "    for filename in filenames:\n",
    "        with open('pyethapp/%s' % filename) as single_file:\n",
    "            for line in single_file:\n",
    "                if line.startswith('#') or line.startswith('\"\"\"'):\n",
    "                    line_nopunct = exclude.sub(' ', line)\n",
    "                    docs_pea_comb.write(line_nopunct + ' ')\n",
    "\n",
    "with open('docs_pea_comb.txt', 'r') as docs_pea_comb:\n",
    "    for line in docs_pea_comb:\n",
    "        with open('docs_pea_comb2.txt', 'w') as docs_pea_comb2:\n",
    "            docs_pea_comb2.write(\" \".join(line.rstrip('\\n') for line in docs_pea_comb))"
   ]
  },
  {
   "cell_type": "code",
   "execution_count": null,
   "metadata": {
    "collapsed": false
   },
   "outputs": [],
   "source": [
    "# Combine total corpus of docstring from Pyethereum\n",
    "\n",
    "exclude = re.compile('[%s]' % re.escape(punctuation))\n",
    "\n",
    "filenames = os.listdir('pyethereum/')\n",
    "\n",
    "with open('docs_peth_comb.txt', 'w') as docs_peth_comb:\n",
    "    filenames = filenames\n",
    "    for filename in filenames:\n",
    "        with open('pyethereum/%s' % filename) as single_file:\n",
    "            for line in single_file:\n",
    "                if line.startswith('#') or line.startswith('\"\"\"'):\n",
    "                    line_nopunct = exclude.sub(' ', line)\n",
    "                    docs_peth_comb.write(line_nopunct + ' ')\n",
    "\n",
    "with open('docs_peth_comb.txt', 'r') as docs_peth_comb:\n",
    "    for line in docs_peth_comb:\n",
    "        with open('docs_peth_comb2.txt', 'w') as docs_peth_comb2:\n",
    "            docs_peth_comb2.write(\" \".join(line.rstrip('\\n') for line in docs_peth_comb))"
   ]
  },
  {
   "cell_type": "code",
   "execution_count": null,
   "metadata": {
    "collapsed": true
   },
   "outputs": [],
   "source": [
    "# Combine total corpus of docstring from Pydevp2p\n",
    "\n",
    "exclude = re.compile('[%s]' % re.escape(punctuation))\n",
    "\n",
    "filenames = os.listdir('pydevp2p/')\n",
    "\n",
    "with open('docs_pdev_comb.txt', 'w') as docs_pdev_comb:\n",
    "    filenames = filenames\n",
    "    for filename in filenames:\n",
    "        with open('pydevp2p/%s' % filename) as single_file:\n",
    "            for line in single_file:\n",
    "                if line.startswith('#') or line.startswith('\"\"\"'):\n",
    "                    line_nopunct = exclude.sub(' ', line)\n",
    "                    docs_pdev_comb.write(line_nopunct + ' ')\n",
    "\n",
    "with open('docs_pdev_comb.txt', 'r') as docs_pdev_comb:\n",
    "    for line in docs_pdev_comb:\n",
    "        with open('docs_pdev_comb2.txt', 'w') as docs_pdev_comb2:\n",
    "            docs_pdev_comb2.write(\" \".join(line.rstrip('\\n') for line in docs_pdev_comb))"
   ]
  },
  {
   "cell_type": "code",
   "execution_count": null,
   "metadata": {
    "collapsed": true
   },
   "outputs": [],
   "source": []
  }
 ],
 "metadata": {
  "kernelspec": {
   "display_name": "Python 3",
   "language": "python",
   "name": "python3"
  },
  "language_info": {
   "codemirror_mode": {
    "name": "ipython",
    "version": 3
   },
   "file_extension": ".py",
   "mimetype": "text/x-python",
   "name": "python",
   "nbconvert_exporter": "python",
   "pygments_lexer": "ipython3",
   "version": "3.5.2"
  }
 },
 "nbformat": 4,
 "nbformat_minor": 1
}
